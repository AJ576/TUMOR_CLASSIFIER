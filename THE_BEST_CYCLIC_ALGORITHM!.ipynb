{
  "cells": [
    {
      "cell_type": "markdown",
      "metadata": {
        "id": "view-in-github",
        "colab_type": "text"
      },
      "source": [
        "<a href=\"https://colab.research.google.com/github/AJ576/TUMOR_CLASSIFIER/blob/main/THE_BEST_CYCLIC_ALGORITHM!.ipynb\" target=\"_parent\"><img src=\"https://colab.research.google.com/assets/colab-badge.svg\" alt=\"Open In Colab\"/></a>"
      ]
    },
    {
      "cell_type": "code",
      "execution_count": null,
      "metadata": {
        "colab": {
          "base_uri": "https://localhost:8080/"
        },
        "id": "LoF4IrQdJFF-",
        "outputId": "c53de724-31e3-416f-8480-ed8c3d74b71b"
      },
      "outputs": [
        {
          "output_type": "stream",
          "name": "stdout",
          "text": [
            "Mounted at /content/drive\n"
          ]
        }
      ],
      "source": [
        "from google.colab import drive\n",
        "drive.mount('/content/drive')"
      ]
    },
    {
      "cell_type": "code",
      "execution_count": null,
      "metadata": {
        "id": "FwSwp-iPMl8-"
      },
      "outputs": [],
      "source": [
        "import torch\n",
        "import torchvision\n",
        "import torch.nn as nn\n",
        "import torchvision.transforms as transforms\n",
        "from torch.utils.data import DataLoader, Dataset"
      ]
    },
    {
      "cell_type": "code",
      "execution_count": null,
      "metadata": {
        "id": "rdJwS9BgasI2"
      },
      "outputs": [],
      "source": [
        "from torch.utils.tensorboard import SummaryWriter\n",
        "from torch.optim.lr_scheduler import CyclicLR\n",
        "import torch.nn.functional as F\n"
      ]
    },
    {
      "cell_type": "code",
      "execution_count": null,
      "metadata": {
        "id": "ZqRsO7UIM0Vy"
      },
      "outputs": [],
      "source": [
        "batch_size = 64\n",
        "num_classes = 4\n",
        "num_epochs = 40  # Total number of epochs\n",
        "base_lr = 5e-4   # Minimum learning rate (adjusted for exploration)\n",
        "max_lr = 1.2e-3  # Maximum learning rate (slightly above 0.0009)\n",
        "step_size_up = 10\n",
        "\n",
        "# Device will determine whether to run the training on GPU or CPU.\n",
        "device = torch.device('cuda' if torch.cuda.is_available() else 'cpu')\n"
      ]
    },
    {
      "cell_type": "code",
      "source": [
        "transform = transforms.Compose([\n",
        "    transforms.Resize((224, 224)),  # Resize images to a standard size\n",
        "    transforms.ToTensor(),          # Convert images to tensors\n",
        "    transforms.Normalize(mean=[0.485, 0.456, 0.406], std=[0.229, 0.224, 0.225])  # Normalize image data\n",
        "])"
      ],
      "metadata": {
        "id": "f4SG6HuYG8d7"
      },
      "execution_count": null,
      "outputs": []
    },
    {
      "cell_type": "code",
      "execution_count": null,
      "metadata": {
        "id": "dXt-gQLhGPpa"
      },
      "outputs": [],
      "source": [
        "train_dataset = torchvision.datasets.ImageFolder(root='/content/drive/MyDrive/Colab Notebooks/MRI/Training', transform=transform)\n",
        "train_loader = DataLoader(train_dataset, batch_size=batch_size, shuffle=True)"
      ]
    },
    {
      "cell_type": "code",
      "execution_count": null,
      "metadata": {
        "id": "kcfuq3m0HTMd"
      },
      "outputs": [],
      "source": [
        "test_dataset = torchvision.datasets.ImageFolder(root='/content/drive/MyDrive/Colab Notebooks/MRI/Testing', transform=transform)\n",
        "test_loader = DataLoader(test_dataset, batch_size=batch_size, shuffle=False)"
      ]
    },
    {
      "cell_type": "code",
      "execution_count": null,
      "metadata": {
        "id": "d7ZkzSQgJNBF"
      },
      "outputs": [],
      "source": [
        "class ConvNet(nn.Module):\n",
        "  def __init__(self, num_classes):\n",
        "        super(ConvNet, self).__init__()\n",
        "\n",
        "        self.conv1 = nn.Conv2d(in_channels=3, out_channels=16, kernel_size=3, padding=1)\n",
        "        self.conv2 = nn.Conv2d(in_channels=16, out_channels=32, kernel_size=3, padding=1)\n",
        "        self.conv3 = nn.Conv2d(in_channels=32, out_channels=64, kernel_size=3, padding=1)\n",
        "        self.conv4 = nn.Conv2d(in_channels=64, out_channels=128, kernel_size=3, padding=1)\n",
        "\n",
        "        # Pooling Layer\n",
        "        self.pool = nn.MaxPool2d(kernel_size=2, stride=2)\n",
        "\n",
        "        # Fully Connected Layers\n",
        "        self.fc1 = nn.Linear(128 * 14 * 14, 512)  # Adjust dimensions if using a different input size\n",
        "        self.fc2 = nn.Linear(512, num_classes)\n",
        "\n",
        "\n",
        "        # Dropout\n",
        "        self.dropout = nn.Dropout(0.5)\n",
        "\n",
        "\n",
        "  def forward(self, x):\n",
        "        # Apply Convolutional and Pooling layers\n",
        "        x = self.pool(F.elu(self.conv1(x)))\n",
        "        x = self.pool(F.elu(self.conv2(x)))\n",
        "        x = self.pool(F.elu(self.conv3(x)))\n",
        "        x = self.pool(F.elu(self.conv4(x)))\n",
        "\n",
        "        # Flatten for fully connected layers\n",
        "        x = x.view(-1, 128 * 14 * 14)\n",
        "\n",
        "        # Fully connected layers with dropout\n",
        "        x = F.elu(self.fc1(x))\n",
        "        x = self.dropout(x)\n",
        "        x = self.fc2(x)\n",
        "\n",
        "        return x"
      ]
    },
    {
      "cell_type": "code",
      "execution_count": null,
      "metadata": {
        "id": "AIkWe86fKxqH"
      },
      "outputs": [],
      "source": [
        "model = ConvNet(num_classes).to(device)\n",
        "\n",
        "criterion = nn.CrossEntropyLoss()\n",
        "optimizer = torch.optim.Adam(model.parameters(), lr=base_lr)\n",
        "scheduler = CyclicLR(optimizer, base_lr=base_lr, max_lr=max_lr, step_size_up=step_size_up, mode='triangular')\n",
        "\n",
        "total_step = len(train_loader)"
      ]
    },
    {
      "cell_type": "code",
      "execution_count": null,
      "metadata": {
        "id": "M3IntaS2LYtp",
        "colab": {
          "base_uri": "https://localhost:8080/"
        },
        "outputId": "31b71e3d-5b3d-414e-b8d0-bc1dafa790a8"
      },
      "outputs": [
        {
          "output_type": "stream",
          "name": "stdout",
          "text": [
            "Epoch [1/40], Loss: 0.5417, LR: 0.000850\n",
            "Epoch [2/40], Loss: 0.4086, LR: 0.001200\n",
            "Epoch [3/40], Loss: 0.4040, LR: 0.000850\n",
            "Epoch [4/40], Loss: 0.3094, LR: 0.000500\n",
            "Epoch [5/40], Loss: 0.1967, LR: 0.000850\n",
            "Epoch [6/40], Loss: 0.1021, LR: 0.001200\n",
            "Epoch [7/40], Loss: 0.0968, LR: 0.000850\n",
            "Epoch [8/40], Loss: 0.1321, LR: 0.000500\n",
            "Epoch [9/40], Loss: 0.0102, LR: 0.000850\n",
            "Epoch [10/40], Loss: 0.0264, LR: 0.001200\n",
            "Epoch [11/40], Loss: 0.0578, LR: 0.000850\n",
            "Epoch [12/40], Loss: 0.1086, LR: 0.000500\n",
            "Epoch [13/40], Loss: 0.0030, LR: 0.000850\n",
            "Epoch [14/40], Loss: 0.0048, LR: 0.001200\n",
            "Epoch [15/40], Loss: 0.0452, LR: 0.000850\n",
            "Epoch [16/40], Loss: 0.0435, LR: 0.000500\n",
            "Epoch [17/40], Loss: 0.0395, LR: 0.000850\n",
            "Epoch [18/40], Loss: 0.0404, LR: 0.001200\n",
            "Epoch [19/40], Loss: 0.0504, LR: 0.000850\n",
            "Epoch [20/40], Loss: 0.0089, LR: 0.000500\n",
            "Epoch [21/40], Loss: 0.0087, LR: 0.000850\n",
            "Epoch [22/40], Loss: 10.8924, LR: 0.001200\n",
            "Epoch [23/40], Loss: 0.7925, LR: 0.000850\n",
            "Epoch [24/40], Loss: 0.4625, LR: 0.000500\n",
            "Epoch [25/40], Loss: 0.7021, LR: 0.000850\n",
            "Epoch [26/40], Loss: 0.3180, LR: 0.001200\n",
            "Epoch [27/40], Loss: 0.4467, LR: 0.000850\n",
            "Epoch [28/40], Loss: 0.4207, LR: 0.000500\n",
            "Epoch [29/40], Loss: 0.1104, LR: 0.000850\n",
            "Epoch [30/40], Loss: 0.1648, LR: 0.001200\n",
            "Epoch [31/40], Loss: 0.1722, LR: 0.000850\n",
            "Epoch [32/40], Loss: 0.2033, LR: 0.000500\n",
            "Epoch [33/40], Loss: 0.1006, LR: 0.000850\n",
            "Epoch [34/40], Loss: 0.1678, LR: 0.001200\n",
            "Epoch [35/40], Loss: 0.0598, LR: 0.000850\n",
            "Epoch [36/40], Loss: 0.0179, LR: 0.000500\n",
            "Epoch [37/40], Loss: 0.0609, LR: 0.000850\n",
            "Epoch [38/40], Loss: 0.0199, LR: 0.001200\n",
            "Epoch [39/40], Loss: 0.0896, LR: 0.000850\n",
            "Epoch [40/40], Loss: 0.0068, LR: 0.000500\n"
          ]
        }
      ],
      "source": [
        "writer = SummaryWriter()\n",
        "\n",
        "for epoch in range(num_epochs):\n",
        "    # Training loop\n",
        "    for i, (images, labels) in enumerate(train_loader):\n",
        "        # Move tensors to the configured device\n",
        "        images = images.to(device)\n",
        "        labels = labels.to(device)\n",
        "\n",
        "        # Forward pass\n",
        "        outputs = model(images)\n",
        "        loss = criterion(outputs, labels)\n",
        "\n",
        "        # Backward pass and optimization\n",
        "        optimizer.zero_grad()\n",
        "        loss.backward()\n",
        "        optimizer.step()\n",
        "\n",
        "        # Update the learning rate with the scheduler\n",
        "        scheduler.step()\n",
        "\n",
        "        # Log training loss and learning rate\n",
        "        if (i + 1) % 10 == 0:\n",
        "            writer.add_scalar('training_loss', loss.item(), epoch * total_step + i)\n",
        "            writer.add_scalar('learning_rate', optimizer.param_groups[0]['lr'], epoch * total_step + i)\n",
        "\n",
        "    # Save model checkpoint at the end of each epoch\n",
        "    torch.save(model.state_dict(), f\"/content/drive/MyDrive/Colab Notebooks/checkpoints/ELU_CYCLE/model_epoch_{epoch + 1}.pth\")\n",
        "\n",
        "    # Print epoch stats\n",
        "    print(f'Epoch [{epoch + 1}/{num_epochs}], Loss: {loss.item():.4f}, LR: {optimizer.param_groups[0][\"lr\"]:.6f}')\n",
        "\n",
        "# Close the SummaryWriter\n",
        "writer.close()"
      ]
    },
    {
      "cell_type": "code",
      "source": [
        "with torch.no_grad():\n",
        "    for epoch in range(num_epochs):\n",
        "        model.load_state_dict(torch.load(f\"/content/drive/MyDrive/Colab Notebooks/checkpoints/ELU_CYCLE/model_epoch_{epoch + 1}.pth\"))\n",
        "        model.to(device)\n",
        "        print(f\"Epoch: {epoch+1}\")\n",
        "\n",
        "        correct = 0  # Reset for each epoch\n",
        "        total = 0    # Reset for each epoch\n",
        "\n",
        "        for images, labels in test_loader:\n",
        "            images = images.to(device)\n",
        "            labels = labels.to(device)\n",
        "            outputs = model(images)\n",
        "            _, predicted = torch.max(outputs.data, 1)\n",
        "            total += labels.size(0)\n",
        "            correct += (predicted == labels).sum().item()\n",
        "\n",
        "        print('Accuracy of the network on the {} test images: {} %'.format(len(test_loader.dataset), 100 * correct / total))\n"
      ],
      "metadata": {
        "id": "2F5KRABjMpNY",
        "colab": {
          "base_uri": "https://localhost:8080/"
        },
        "outputId": "57f5da19-e43a-44b8-8556-8e10eec2081b"
      },
      "execution_count": null,
      "outputs": [
        {
          "output_type": "stream",
          "name": "stderr",
          "text": [
            "<ipython-input-11-35ac93fc1b46>:3: FutureWarning: You are using `torch.load` with `weights_only=False` (the current default value), which uses the default pickle module implicitly. It is possible to construct malicious pickle data which will execute arbitrary code during unpickling (See https://github.com/pytorch/pytorch/blob/main/SECURITY.md#untrusted-models for more details). In a future release, the default value for `weights_only` will be flipped to `True`. This limits the functions that could be executed during unpickling. Arbitrary objects will no longer be allowed to be loaded via this mode unless they are explicitly allowlisted by the user via `torch.serialization.add_safe_globals`. We recommend you start setting `weights_only=True` for any use case where you don't have full control of the loaded file. Please open an issue on GitHub for any issues related to this experimental feature.\n",
            "  model.load_state_dict(torch.load(f\"/content/drive/MyDrive/Colab Notebooks/checkpoints/ELU_CYCLE/model_epoch_{epoch + 1}.pth\"))\n"
          ]
        },
        {
          "output_type": "stream",
          "name": "stdout",
          "text": [
            "Epoch: 1\n",
            "Accuracy of the network on the 394 test images: 40.609137055837564 %\n",
            "Epoch: 2\n",
            "Accuracy of the network on the 394 test images: 34.51776649746193 %\n",
            "Epoch: 3\n",
            "Accuracy of the network on the 394 test images: 54.568527918781726 %\n",
            "Epoch: 4\n",
            "Accuracy of the network on the 394 test images: 66.24365482233503 %\n",
            "Epoch: 5\n",
            "Accuracy of the network on the 394 test images: 69.28934010152284 %\n",
            "Epoch: 6\n",
            "Accuracy of the network on the 394 test images: 71.8274111675127 %\n",
            "Epoch: 7\n",
            "Accuracy of the network on the 394 test images: 74.11167512690355 %\n",
            "Epoch: 8\n",
            "Accuracy of the network on the 394 test images: 76.14213197969544 %\n",
            "Epoch: 9\n",
            "Accuracy of the network on the 394 test images: 73.60406091370558 %\n",
            "Epoch: 10\n",
            "Accuracy of the network on the 394 test images: 73.60406091370558 %\n",
            "Epoch: 11\n",
            "Accuracy of the network on the 394 test images: 70.05076142131979 %\n",
            "Epoch: 12\n",
            "Accuracy of the network on the 394 test images: 71.57360406091371 %\n",
            "Epoch: 13\n",
            "Accuracy of the network on the 394 test images: 73.09644670050761 %\n",
            "Epoch: 14\n",
            "Accuracy of the network on the 394 test images: 75.88832487309645 %\n",
            "Epoch: 15\n",
            "Accuracy of the network on the 394 test images: 75.63451776649747 %\n",
            "Epoch: 16\n",
            "Accuracy of the network on the 394 test images: 74.61928934010152 %\n",
            "Epoch: 17\n",
            "Accuracy of the network on the 394 test images: 75.63451776649747 %\n",
            "Epoch: 18\n",
            "Accuracy of the network on the 394 test images: 71.31979695431473 %\n",
            "Epoch: 19\n",
            "Accuracy of the network on the 394 test images: 74.36548223350253 %\n",
            "Epoch: 20\n",
            "Accuracy of the network on the 394 test images: 76.90355329949239 %\n",
            "Epoch: 21\n",
            "Accuracy of the network on the 394 test images: 74.61928934010152 %\n",
            "Epoch: 22\n",
            "Accuracy of the network on the 394 test images: 29.695431472081218 %\n",
            "Epoch: 23\n",
            "Accuracy of the network on the 394 test images: 44.16243654822335 %\n",
            "Epoch: 24\n",
            "Accuracy of the network on the 394 test images: 41.370558375634516 %\n",
            "Epoch: 25\n",
            "Accuracy of the network on the 394 test images: 51.26903553299493 %\n",
            "Epoch: 26\n",
            "Accuracy of the network on the 394 test images: 57.36040609137056 %\n",
            "Epoch: 27\n",
            "Accuracy of the network on the 394 test images: 56.09137055837564 %\n",
            "Epoch: 28\n",
            "Accuracy of the network on the 394 test images: 66.24365482233503 %\n",
            "Epoch: 29\n",
            "Accuracy of the network on the 394 test images: 67.00507614213198 %\n",
            "Epoch: 30\n",
            "Accuracy of the network on the 394 test images: 67.25888324873097 %\n",
            "Epoch: 31\n",
            "Accuracy of the network on the 394 test images: 68.78172588832487 %\n",
            "Epoch: 32\n",
            "Accuracy of the network on the 394 test images: 73.60406091370558 %\n",
            "Epoch: 33\n",
            "Accuracy of the network on the 394 test images: 70.81218274111676 %\n",
            "Epoch: 34\n",
            "Accuracy of the network on the 394 test images: 72.33502538071066 %\n",
            "Epoch: 35\n",
            "Accuracy of the network on the 394 test images: 74.36548223350253 %\n",
            "Epoch: 36\n",
            "Accuracy of the network on the 394 test images: 72.08121827411168 %\n",
            "Epoch: 37\n",
            "Accuracy of the network on the 394 test images: 73.60406091370558 %\n",
            "Epoch: 38\n",
            "Accuracy of the network on the 394 test images: 74.61928934010152 %\n",
            "Epoch: 39\n",
            "Accuracy of the network on the 394 test images: 74.11167512690355 %\n",
            "Epoch: 40\n",
            "Accuracy of the network on the 394 test images: 72.84263959390863 %\n"
          ]
        }
      ]
    },
    {
      "cell_type": "code",
      "execution_count": null,
      "metadata": {
        "colab": {
          "base_uri": "https://localhost:8080/"
        },
        "id": "0IPFngboWAlb",
        "outputId": "a0ead0eb-422a-4524-d906-c44ac49165b5"
      },
      "outputs": [
        {
          "output_type": "stream",
          "name": "stdout",
          "text": [
            "Accuracy of the network on the 394 test images: 75.88832487309645 %\n"
          ]
        }
      ],
      "source": [
        "with torch.no_grad():\n",
        "    correct = 0\n",
        "    total = 0\n",
        "    for images, labels in test_loader:\n",
        "        images = images.to(device)\n",
        "        labels = labels.to(device)\n",
        "        outputs = model(images)\n",
        "        _, predicted = torch.max(outputs.data, 1)\n",
        "        total += labels.size(0)\n",
        "        correct += (predicted == labels).sum().item()\n",
        "\n",
        "    print('Accuracy of the network on the {} test images: {} %'.format(len(test_loader.dataset), 100 * correct / total))"
      ]
    },
    {
      "cell_type": "code",
      "source": [
        "model.load_state_dict(torch.load(\"/content/drive/MyDrive/Colab Notebooks/checkpoints/ELU_CYCLE/model_epoch_20.pth\"))\n",
        "# #replace X\n",
        "model.to(device)"
      ],
      "metadata": {
        "colab": {
          "base_uri": "https://localhost:8080/"
        },
        "id": "pHazMptbm5_C",
        "outputId": "bc286c0d-2c8e-4afa-a1e9-cbd7589d4765"
      },
      "execution_count": null,
      "outputs": [
        {
          "output_type": "stream",
          "name": "stderr",
          "text": [
            "<ipython-input-14-3edcf25a4e8f>:1: FutureWarning: You are using `torch.load` with `weights_only=False` (the current default value), which uses the default pickle module implicitly. It is possible to construct malicious pickle data which will execute arbitrary code during unpickling (See https://github.com/pytorch/pytorch/blob/main/SECURITY.md#untrusted-models for more details). In a future release, the default value for `weights_only` will be flipped to `True`. This limits the functions that could be executed during unpickling. Arbitrary objects will no longer be allowed to be loaded via this mode unless they are explicitly allowlisted by the user via `torch.serialization.add_safe_globals`. We recommend you start setting `weights_only=True` for any use case where you don't have full control of the loaded file. Please open an issue on GitHub for any issues related to this experimental feature.\n",
            "  model.load_state_dict(torch.load(\"/content/drive/MyDrive/Colab Notebooks/checkpoints/ELU_CYCLE/model_epoch_20.pth\"))\n"
          ]
        },
        {
          "output_type": "execute_result",
          "data": {
            "text/plain": [
              "ConvNet(\n",
              "  (conv1): Conv2d(3, 16, kernel_size=(3, 3), stride=(1, 1), padding=(1, 1))\n",
              "  (conv2): Conv2d(16, 32, kernel_size=(3, 3), stride=(1, 1), padding=(1, 1))\n",
              "  (conv3): Conv2d(32, 64, kernel_size=(3, 3), stride=(1, 1), padding=(1, 1))\n",
              "  (conv4): Conv2d(64, 128, kernel_size=(3, 3), stride=(1, 1), padding=(1, 1))\n",
              "  (pool): MaxPool2d(kernel_size=2, stride=2, padding=0, dilation=1, ceil_mode=False)\n",
              "  (fc1): Linear(in_features=25088, out_features=512, bias=True)\n",
              "  (fc2): Linear(in_features=512, out_features=4, bias=True)\n",
              "  (dropout): Dropout(p=0.5, inplace=False)\n",
              ")"
            ]
          },
          "metadata": {},
          "execution_count": 14
        }
      ]
    },
    {
      "cell_type": "code",
      "source": [
        "import torch\n",
        "from sklearn.metrics import confusion_matrix, ConfusionMatrixDisplay\n",
        "import matplotlib.pyplot as plt\n",
        "import numpy as np"
      ],
      "metadata": {
        "id": "bR8sv3GFz8Bu"
      },
      "execution_count": null,
      "outputs": []
    },
    {
      "cell_type": "code",
      "source": [
        "# Define your test dataset (replace with your actual test loader)\n",
        "# Assuming test_loader is your DataLoader for the test set\n",
        "\n",
        "# Define class labels\n",
        "class_labels = [\"glioma_tumor\", \"meningioma_tumor\", \"no_tumor\", \"pituitary_tumor\"]\n",
        "\n",
        "# Ensure the model is in evaluation mode\n",
        "model.eval()\n",
        "\n",
        "all_preds = []\n",
        "all_labels = []\n",
        "\n",
        "# Iterate through the test data\n",
        "with torch.no_grad():\n",
        "    for images, labels in test_loader:  # Replace test_loader with your DataLoader\n",
        "        images, labels = images.to(device), labels.to(device)\n",
        "\n",
        "        # Get model predictions\n",
        "        outputs = model(images)\n",
        "        _, preds = torch.max(outputs, 1)\n",
        "\n",
        "        # Store predictions and true labels\n",
        "        all_preds.extend(preds.cpu().numpy())\n",
        "        all_labels.extend(labels.cpu().numpy())\n",
        "\n",
        "# Generate the confusion matrix\n",
        "cm = confusion_matrix(all_labels, all_preds)\n",
        "\n",
        "# Display the confusion matrix\n",
        "disp = ConfusionMatrixDisplay(confusion_matrix=cm, display_labels=class_labels)\n",
        "disp.plot(cmap=plt.cm.Blues, xticks_rotation='vertical')\n",
        "\n",
        "# Title for the confusion matrix plot\n",
        "plt.title(\"Confusion Matrix\")\n",
        "plt.show()\n"
      ],
      "metadata": {
        "colab": {
          "base_uri": "https://localhost:8080/",
          "height": 593
        },
        "id": "IKWW6iYnzn-o",
        "outputId": "4600bfe6-49ad-40cf-ac1c-e7f727f07a7d"
      },
      "execution_count": null,
      "outputs": [
        {
          "output_type": "display_data",
          "data": {
            "text/plain": [
              "<Figure size 640x480 with 2 Axes>"
            ],
            "image/png": "[encoded data removed]"
          },
          "metadata": {}
        }
      ]
    },
    {
      "cell_type": "code",
      "source": [
        "print(train_loader.dataset.class_to_idx)\n"
      ],
      "metadata": {
        "colab": {
          "base_uri": "https://localhost:8080/"
        },
        "id": "yZjPQYr70jwA",
        "outputId": "46d26347-5443-4835-bbd7-ccbe698d0f87"
      },
      "execution_count": null,
      "outputs": [
        {
          "output_type": "stream",
          "name": "stdout",
          "text": [
            "{'glioma_tumor': 0, 'meningioma_tumor': 1, 'no_tumor': 2, 'pituitary_tumor': 3}\n"
          ]
        }
      ]
    }
  ],
  "metadata": {
    "colab": {
      "provenance": [],
      "include_colab_link": true
    },
    "kernelspec": {
      "display_name": "Python 3",
      "name": "python3"
    },
    "language_info": {
      "name": "python"
    }
  },
  "nbformat": 4,
  "nbformat_minor": 0
}